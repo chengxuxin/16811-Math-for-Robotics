{
 "cells": [
  {
   "cell_type": "code",
   "execution_count": 7,
   "source": [
    "import numpy as np\n",
    "import scipy.linalg as linalg\n",
    "from scipy.spatial.transform import Rotation as Rot\n"
   ],
   "outputs": [],
   "metadata": {}
  },
  {
   "cell_type": "markdown",
   "source": [
    "# Problem 1"
   ],
   "metadata": {}
  },
  {
   "cell_type": "code",
   "execution_count": 42,
   "source": [
    "def swaprow(A, i, j):\n",
    "    temp = np.copy(A[j])\n",
    "    A[j] = np.copy(A[i])\n",
    "    A[i] = temp\n",
    "    return A\n",
    "\n",
    "def swapele(A, idx1, idx2):\n",
    "    temp = A[idx2]\n",
    "    A[idx2] = A[idx1]\n",
    "    A[idx1] = temp\n",
    "    return A\n",
    "\n",
    "def ldu(A):\n",
    "    #  only row interchanges\n",
    "    n = A.shape[0]\n",
    "    L = np.identity(n)\n",
    "    P = np.identity(n)\n",
    "    for i in range(n):\n",
    "        if A[i][i] == 0: # swap row\n",
    "            # print(A)\n",
    "            col = A[i+1:, i]\n",
    "            swap_row_idx = np.nonzero(col)[0][0]+i+1\n",
    "            A = swaprow(A, i, swap_row_idx)\n",
    "            P = swaprow(P, i, swap_row_idx)\n",
    "            L = swaprow(L, i, swap_row_idx)\n",
    "            L = swapele(L, (i, i), (i, swap_row_idx))\n",
    "            L = swapele(L, (swap_row_idx, i), (swap_row_idx, swap_row_idx))\n",
    "        for j in range(i+1, n):\n",
    "            row = A[j]\n",
    "            ratio = row[i] / A[i][i]\n",
    "            A[j] = row - A[i] * ratio\n",
    "            L[j, i] += ratio\n",
    "    D = np.diag(np.diag(A))\n",
    "    U = (A.T / np.diag(A)).T\n",
    "    return P, L, D, U"
   ],
   "outputs": [],
   "metadata": {}
  },
  {
   "cell_type": "markdown",
   "source": [
    "## Examples"
   ],
   "metadata": {}
  },
  {
   "cell_type": "code",
   "execution_count": 58,
   "source": [
    "# example 1\n",
    "A_flat = np.array([1, -2, 1, 1, 2, 2, 2, 3, 4]).astype(float)\n",
    "# A_flat = np.array([1, 1, 0, 1, 1, 2, 4, 2, 3]).astype(float)\n",
    "\n",
    "n = np.sqrt(A_flat.shape[0]).astype(int)\n",
    "A = A_flat.reshape((n, n))\n",
    "\n",
    "P, L, D, U = ldu(A)\n",
    "\n",
    "print(\"A\", A)\n",
    "print(\"P\", P)\n",
    "print(\"L\", L)\n",
    "print(\"D\", D)\n",
    "print(\"U\", U)"
   ],
   "outputs": [
    {
     "output_type": "stream",
     "name": "stdout",
     "text": [
      "A [[ 1.   -2.    1.  ]\n",
      " [ 0.    4.    1.  ]\n",
      " [ 0.    0.    0.25]]\n",
      "P [[1. 0. 0.]\n",
      " [0. 1. 0.]\n",
      " [0. 0. 1.]]\n",
      "L [[1.   0.   0.  ]\n",
      " [1.   1.   0.  ]\n",
      " [2.   1.75 1.  ]]\n",
      "D [[1.   0.   0.  ]\n",
      " [0.   4.   0.  ]\n",
      " [0.   0.   0.25]]\n",
      "U [[ 1.   -2.    1.  ]\n",
      " [ 0.    1.    0.25]\n",
      " [ 0.    0.    1.  ]]\n"
     ]
    }
   ],
   "metadata": {}
  },
  {
   "cell_type": "code",
   "execution_count": 59,
   "source": [
    "# example 2\n",
    "A_flat = np.array([1, 1, 0, 1, 1, 2, 4, 2, 3]).astype(float)\n",
    "\n",
    "n = np.sqrt(A_flat.shape[0]).astype(int)\n",
    "A = A_flat.reshape((n, n))\n",
    "\n",
    "P, L, D, U = ldu(A)\n",
    "\n",
    "print(\"A\", A)\n",
    "print(\"P\", P)\n",
    "print(\"L\", L)\n",
    "print(\"D\", D)\n",
    "print(\"U\", U)"
   ],
   "outputs": [
    {
     "output_type": "stream",
     "name": "stdout",
     "text": [
      "A [[ 1.  1.  0.]\n",
      " [ 0. -2.  3.]\n",
      " [ 0.  0.  2.]]\n",
      "P [[1. 0. 0.]\n",
      " [0. 0. 1.]\n",
      " [0. 1. 0.]]\n",
      "L [[1. 0. 0.]\n",
      " [4. 1. 0.]\n",
      " [1. 0. 1.]]\n",
      "D [[ 1.  0.  0.]\n",
      " [ 0. -2.  0.]\n",
      " [ 0.  0.  2.]]\n",
      "U [[ 1.   1.   0. ]\n",
      " [-0.   1.  -1.5]\n",
      " [ 0.   0.   1. ]]\n"
     ]
    }
   ],
   "metadata": {}
  },
  {
   "cell_type": "markdown",
   "source": [
    "# Problem 2"
   ],
   "metadata": {}
  },
  {
   "cell_type": "code",
   "execution_count": 56,
   "source": [
    "def svd(A):\n",
    "    U, s, VT = linalg.svd(A)\n",
    "\n",
    "    sigma = np.zeros(A.shape)\n",
    "    for i, sig in enumerate(s):\n",
    "        sigma[i, i] = sig\n",
    "\n",
    "    print(\"sigma\", sigma)\n",
    "    print(\"U\", U)\n",
    "    print(\"VT\", VT)"
   ],
   "outputs": [],
   "metadata": {}
  },
  {
   "cell_type": "markdown",
   "source": [
    "## $A_1$"
   ],
   "metadata": {}
  },
  {
   "cell_type": "code",
   "execution_count": 52,
   "source": [
    "A_flat = np.array([7, 6, 1, 4, 5, 1, 7, 7, 7]).astype(float)\n",
    "\n",
    "n = np.sqrt(A_flat.shape[0]).astype(int)\n",
    "A = A_flat.reshape((n, n))\n",
    "\n",
    "svd(A)"
   ],
   "outputs": [
    {
     "output_type": "stream",
     "name": "stdout",
     "text": [
      "sigma [[16.05699963  0.          0.        ]\n",
      " [ 0.          4.02789209  0.        ]\n",
      " [ 0.          0.          0.97408829]]\n",
      "U [[-0.55358553  0.64368823  0.52840186]\n",
      " [-0.38998772  0.36025094 -0.84742483]\n",
      " [-0.73583466 -0.67519235  0.0516008 ]]\n",
      "VT [[-0.65926963 -0.64908106 -0.37954886]\n",
      " [ 0.30300586  0.23263722 -0.92415765]\n",
      " [ 0.68815042 -0.7242746   0.04330471]]\n"
     ]
    }
   ],
   "metadata": {}
  },
  {
   "cell_type": "markdown",
   "source": [
    "## $A_2$"
   ],
   "metadata": {}
  },
  {
   "cell_type": "code",
   "execution_count": 54,
   "source": [
    "A_flat = np.array([12,12,0,0,3,0,-2,0,0,1,-1,0,0,0,0,1,0,0,1,1]).astype(float)\n",
    "\n",
    "n = np.sqrt(A_flat.shape[0]).astype(int)\n",
    "A = A_flat.reshape((5, 4))\n",
    "\n",
    "svd(A)"
   ],
   "outputs": [
    {
     "output_type": "stream",
     "name": "stdout",
     "text": [
      "sigma [[17.12140667  0.          0.          0.        ]\n",
      " [ 0.          3.00170074  0.          0.        ]\n",
      " [ 0.          0.          1.60502203  0.        ]\n",
      " [ 0.          0.          0.          1.12744436]\n",
      " [ 0.          0.          0.          0.        ]]\n",
      "U [[-9.90941122e-01  1.25878924e-01 -1.32838739e-02  3.11952653e-02\n",
      "  -3.22580645e-02]\n",
      " [-1.27647037e-01 -9.43895873e-01  2.75850620e-01  4.89157065e-03\n",
      "   1.29032258e-01]\n",
      " [-4.17239152e-02 -9.48902857e-02 -5.11590597e-01 -7.60056640e-01\n",
      "   3.87096774e-01]\n",
      " [ 3.49210517e-06  3.59486219e-02  4.35899861e-01 -6.26471002e-01\n",
      "  -6.45161290e-01]\n",
      " [ 1.02019257e-03  2.87955914e-01  6.87019902e-01 -1.69855569e-01\n",
      "   6.45161290e-01]]\n",
      "VT [[-7.16894051e-01 -6.96964777e-01  1.74073421e-02  5.97897528e-05]\n",
      " [-4.40130662e-01  4.71618234e-01  7.56450474e-01  1.07907005e-01]\n",
      " [ 4.16284238e-01 -4.18060981e-01  4.03053197e-01  6.99628880e-01]\n",
      " [ 3.45043987e-01 -3.42113076e-01  5.14808493e-01 -7.06311196e-01]]\n"
     ]
    }
   ],
   "metadata": {}
  },
  {
   "cell_type": "markdown",
   "source": [
    "## $A_3$"
   ],
   "metadata": {}
  },
  {
   "cell_type": "code",
   "execution_count": 57,
   "source": [
    "A_flat = np.array([7,6,4,0,3,3,7,3,1]).astype(float)\n",
    "\n",
    "n = np.sqrt(A_flat.shape[0]).astype(int)\n",
    "A = A_flat.reshape((n, n))\n",
    "\n",
    "svd(A)"
   ],
   "outputs": [
    {
     "output_type": "stream",
     "name": "stdout",
     "text": [
      "sigma [[1.26839208e+01 0.00000000e+00 0.00000000e+00]\n",
      " [0.00000000e+00 4.13740891e+00 0.00000000e+00]\n",
      " [0.00000000e+00 0.00000000e+00 4.69957459e-16]]\n",
      "U [[-0.78940534 -0.20858061 -0.57735027]\n",
      " [-0.21406656 -0.78793539  0.57735027]\n",
      " [-0.57533878  0.57935477  0.57735027]]\n",
      "VT [[-0.75317475 -0.56013028 -0.34493749]\n",
      " [ 0.62730544 -0.45372009 -0.63295021]\n",
      " [ 0.19802951 -0.69310328  0.69310328]]\n"
     ]
    }
   ],
   "metadata": {}
  },
  {
   "cell_type": "markdown",
   "source": [
    "# Problem 5"
   ],
   "metadata": {}
  },
  {
   "cell_type": "code",
   "execution_count": 51,
   "source": [
    "def findtrans(P, Q):\n",
    "    # input is 2 matrices with column vector in 3D space\n",
    "    assert P.shape[0] == 3 and Q.shape[0] == 3\n",
    "    assert P.shape[1] == Q.shape[1]\n",
    "    n = P.shape[1]\n",
    "    p_ = np.mean(P, axis=1).reshape((3, 1))\n",
    "    q_ = np.mean(Q, axis=1).reshape((3, 1))\n",
    "    X = P - p_\n",
    "    Y = Q - q_\n",
    "    S = X @ Y.T\n",
    "    U, s, VT = linalg.svd(S)\n",
    "    V = VT.T\n",
    "    det = linalg.det(V @ U.T)\n",
    "    if det > 0:\n",
    "        sign = 1\n",
    "    else:\n",
    "        sign = -1\n",
    "    M = np.identity(3)\n",
    "    M[-1, -1] = sign\n",
    "    R = V @ M @ U.T\n",
    "    t = q_ - R @ p_\n",
    "    return t, R\n",
    "    \n"
   ],
   "outputs": [],
   "metadata": {}
  },
  {
   "cell_type": "code",
   "execution_count": 70,
   "source": [
    "n = 10\n",
    "P = np.random.randint(0, 10, (3, n))\n",
    "t = np.random.randint(0, 10, (1, 3)).T\n",
    "\n",
    "R = Rot.random().as_matrix()\n",
    "Q = R @ P + t\n",
    "Q = Q + 0.2*np.random.normal(size=(3, n))\n",
    "t_, R_ = findtrans(P, Q)\n",
    "\n",
    "calc_error = lambda x: np.mean(np.square(x))\n",
    "trans_error = calc_error(t_-t)\n",
    "rot_error = calc_error(R_-R)\n",
    "\n",
    "print(\"Translation error: {:2f}\\n Rotation error: {:2f}\".format(trans_error, rot_error))"
   ],
   "outputs": [
    {
     "output_type": "stream",
     "name": "stdout",
     "text": [
      "Translation error: 0.004584\n",
      " Rotation error: 0.000053\n"
     ]
    }
   ],
   "metadata": {}
  },
  {
   "cell_type": "code",
   "execution_count": null,
   "source": [],
   "outputs": [],
   "metadata": {}
  }
 ],
 "metadata": {
  "orig_nbformat": 4,
  "language_info": {
   "name": "python",
   "version": "3.9.6",
   "mimetype": "text/x-python",
   "codemirror_mode": {
    "name": "ipython",
    "version": 3
   },
   "pygments_lexer": "ipython3",
   "nbconvert_exporter": "python",
   "file_extension": ".py"
  },
  "kernelspec": {
   "name": "python3",
   "display_name": "Python 3.9.6 64-bit ('10601-ml': conda)"
  },
  "interpreter": {
   "hash": "4fe6d06101c963ea37ef3dba15df2d24e6691d2259e33300650fecf37c20fe7b"
  }
 },
 "nbformat": 4,
 "nbformat_minor": 2
}